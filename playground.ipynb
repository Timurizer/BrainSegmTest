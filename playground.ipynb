{
 "cells": [
  {
   "cell_type": "code",
   "execution_count": 1,
   "metadata": {},
   "outputs": [],
   "source": [
    "%config Completer.use_jedi = False"
   ]
  },
  {
   "cell_type": "code",
   "execution_count": 17,
   "metadata": {},
   "outputs": [],
   "source": [
    "import nibabel as nib\n",
    "%matplotlib inline\n",
    "\n",
    "import SimpleITK as sitk\n",
    "\n",
    "import numpy as np \n",
    "import pandas as pd \n",
    "\n",
    "from skimage import io, color\n",
    "from matplotlib import pyplot\n",
    "\n",
    "\n",
    "import os\n",
    "import scipy.ndimage\n",
    "import matplotlib.pyplot as plt\n",
    "\n",
    "from torch import nn\n",
    "import torch\n",
    "\n",
    "from torch.utils.data import DataLoader, Dataset, Sampler\n",
    "import segmentation_models_pytorch as smp\n",
    "from IPython.display import clear_output\n",
    "\n",
    "import albumentations as albu\n",
    "\n",
    "%matplotlib inline"
   ]
  },
  {
   "cell_type": "code",
   "execution_count": null,
   "metadata": {},
   "outputs": [],
   "source": [
    "img = nib.load('/data/datasets/test_task_cmai/Brain_CT_labeling/1.nii.gz')\n",
    "img_seg = nib.load('/data/datasets/test_task_cmai/Brain_CT_labeling/1-seg.nii.gz')"
   ]
  },
  {
   "cell_type": "code",
   "execution_count": 3,
   "metadata": {},
   "outputs": [],
   "source": [
    "directory = '/data/datasets/test_task_cmai/Brain_CT_labeling/'\n",
    "\n",
    "segs = []\n",
    "imgs = []\n",
    "txts = []\n",
    "\n",
    "for filename in os.listdir(directory):\n",
    "    if filename.endswith(\".gz\") or filename.endswith(\".nii\"):\n",
    "            if \"seg\" in filename:\n",
    "                segs.append(filename)\n",
    "            else:\n",
    "                imgs.append(filename)\n",
    "    elif filename.endswith(\".txt\"):\n",
    "        txts.append(filename)"
   ]
  },
  {
   "cell_type": "code",
   "execution_count": 4,
   "metadata": {},
   "outputs": [
    {
     "data": {
      "text/plain": [
       "['1.txt', '2.txt', '3.txt', '4.txt', '5.txt', '6.txt', '7.txt']"
      ]
     },
     "execution_count": 4,
     "metadata": {},
     "output_type": "execute_result"
    }
   ],
   "source": [
    "sorted(txts)"
   ]
  },
  {
   "cell_type": "code",
   "execution_count": 5,
   "metadata": {},
   "outputs": [],
   "source": [
    "def show_slices(slices):\n",
    "    fig, axes = plt.subplots(1, len(slices))\n",
    "    for i, slice in enumerate(slices):\n",
    "        axes[i].imshow(slice.T, cmap=\"gray\", origin=\"lower\") "
   ]
  },
  {
   "cell_type": "code",
   "execution_count": 6,
   "metadata": {},
   "outputs": [],
   "source": [
    "class CustomSampler(Sampler):\n",
    "    \n",
    "    def __init__(self, dataset, size):\n",
    "        \n",
    "        self.size = size\n",
    "        self.dataset = dataset\n",
    "        self.classes_mapping = {}\n",
    "        \n",
    "        for i in range(len(dataset.slices)):\n",
    "            data_slice = dataset.slices[i]\n",
    "            classes = np.unique(data_slice[\"mask\"])\n",
    "            \n",
    "            for s_class in classes:\n",
    "                if s_class in self.classes_mapping:\n",
    "                    self.classes_mapping[s_class].append(i)\n",
    "                else:\n",
    "                    self.classes_mapping[s_class] = [i]\n",
    "        \n",
    "    def __iter__(self):\n",
    "        \n",
    "        class_choices = [np.random.choice(sampler.classes_mapping[i], self.size) for i in sampler.classes_mapping]\n",
    "        all_indexes = np.concatenate(class_choices);\n",
    "        np.random.shuffle(all_indexes)\n",
    "        return iter(all_indexes)\n",
    "        \n",
    "    def __len__(self):\n",
    "        return len(self.classes_mapping) * self.size\n",
    "\n",
    "    "
   ]
  },
  {
   "cell_type": "code",
   "execution_count": 7,
   "metadata": {},
   "outputs": [],
   "source": [
    "class BrainDataset(Dataset):\n",
    "    \n",
    "    CLASSES = [str(i + 1) for i in range(20)]\n",
    "    \n",
    "    def __init__(self, path, image_files, segm_files, txt_transformations,\n",
    "                 classes = None,\n",
    "                 augmentation=None):\n",
    "        self.path = path\n",
    "        self.image_files = image_files\n",
    "        self.segm_files = segm_files\n",
    "        self.txt_transformations = txt_transformations\n",
    "        self.augmentation = augmentation\n",
    "        self.imgs3D = []\n",
    "        self.masks3D = []\n",
    "        self.slices = []\n",
    "        self.class_values = [int(cls) for cls in classes]\n",
    "        \n",
    "        for (img, seg, transf) in zip(self.image_files, self.segm_files, self.txt_transformations):\n",
    "            try:\n",
    "                image_data, seg_data = self.get_array_data(path+img, path+seg, path + transf)\n",
    "                seg_data[seg_data > 10] -= 10 # \n",
    "                self.imgs3D.append(image_data)\n",
    "                self.masks3D.append(seg_data)\n",
    "            except:\n",
    "                continue\n",
    "                \n",
    "            for i in range(image_data.shape[2]):\n",
    "                \n",
    "                slice_image = image_data[...,i]\n",
    "#                 slice_image = (np.clip(slice_image, -200, 300) -36) / 16\n",
    "            \n",
    "                self.slices.append({\n",
    "                                    \"image\": slice_image, #.astype(np.long), \n",
    "                                     \"mask\": seg_data[...,i]  #.astype(np.long)\n",
    "                                    })\n",
    "            \n",
    "    \n",
    "    def __getitem__(self, idx):\n",
    "        \n",
    "        if idx >= len(self.slices):\n",
    "            raise IndexError(\"list index out of range\")\n",
    "            \n",
    "        item = self.slices[idx]\n",
    "        image, mask = item[\"image\"], item[\"mask\"]\n",
    "        \n",
    "        if self.augmentation:\n",
    "            sample = self.augmentation(image=image, mask=mask)\n",
    "            image, mask = sample['image'], sample['mask']\n",
    "            \n",
    "        masks = [(mask == v) for v in self.class_values]\n",
    "        #mask = np.stack(masks, axis=-1).astype(np.int)\n",
    "        mask= np.stack(masks, axis=-3).astype(np.int)\n",
    "        \n",
    "        image = (np.clip(image, -200, 300) -36) / 16\n",
    "\n",
    "        return image.reshape(1, 512, 512).astype(np.float32), mask #.reshape(20, 512, 512).astype(np.int)\n",
    "        \n",
    "    def __len__(self):\n",
    "        return len(self.slices)\n",
    "    \n",
    "    def get_array_data(self, img_path, seg_path, transf_path, visualise=False):\n",
    "        \n",
    "        transform = self.read_transform_txt(transf_path)\n",
    "        image = sitk.ReadImage(img_path)\n",
    "        seg = sitk.ReadImage(seg_path)\n",
    "\n",
    "        rot_matrix = transform[:3, :-1]\n",
    "        offset = transform[:3,-1:]\n",
    "\n",
    "        e3d_transform = sitk.Euler3DTransform()\n",
    "        e3d_transform.SetMatrix(rot_matrix.flatten())\n",
    "        e3d_transform.SetTranslation(offset.reshape(3))\n",
    "        e3d_transform.TransformPoint([0,0,0])\n",
    "\n",
    "        image = sitk.Resample(image, e3d_transform, sitk.sitkNearestNeighbor, defaultPixelValue = -1024 )\n",
    "        image_data = sitk.GetArrayFromImage(image)\n",
    "        image_data = np.moveaxis(image_data, 0, -1)\n",
    "    \n",
    "        seg_data = sitk.GetArrayFromImage(seg)\n",
    "        seg_data = np.moveaxis(seg_data, 0, -1)\n",
    "        \n",
    "        if visualise:\n",
    "            slice_img = image_data[:, :, 55]\n",
    "            slice_seg = seg_data[:, :, 55]\n",
    "            show_slices([slice_img, slice_seg])\n",
    "        \n",
    "        return image_data, seg_data\n",
    "    \n",
    "\n",
    "    def read_transform_txt(self, path):\n",
    "\n",
    "        transform = None\n",
    "        with open( path, 'r' ) as f:\n",
    "            for line in f:\n",
    "\n",
    "                if line.startswith( 'Parameters:' ):\n",
    "                    values = line.split( ': ' )[1].split( ' ' )\n",
    "                    values = [float( e ) for e in values if ( e != '' and e != '\\n' )]\n",
    "                    transform_upper_left = np.reshape( values[0:9], ( 3, 3 ) )\n",
    "                    translation = values[9:]\n",
    "\n",
    "\n",
    "                if line.startswith( 'FixedParameters:' ):\n",
    "                    values = line.split( ': ' )[1].split( ' ' )\n",
    "                    values = [float( e ) for e in values if ( e != '' and e != '\\n' )]\n",
    "                    center = values\n",
    "\n",
    "\n",
    "        offset = np.ones(4)\n",
    "        for i in range(0, 3):\n",
    "\n",
    "            offset[i] = translation[i] + center[i];\n",
    "\n",
    "            for j in range(0, 3):\n",
    "\n",
    "                offset[i] -= transform_upper_left[i][j] * center[i]\n",
    "\n",
    "        transform = np.vstack((transform_upper_left, [0, 0, 0]))\n",
    "        transform = np.hstack((transform, np.reshape( offset, (4, 1))))\n",
    "\n",
    "        return transform"
   ]
  },
  {
   "cell_type": "code",
   "execution_count": 407,
   "metadata": {},
   "outputs": [
    {
     "data": {
      "image/png": "[encoded data removed]",
      "text/plain": [
       "<Figure size 432x288 with 1 Axes>"
      ]
     },
     "metadata": {
      "needs_background": "light"
     },
     "output_type": "display_data"
    }
   ],
   "source": [
    "plt.hist(np.array(dataset[1][\"image\"])[..., 50][(np.array(dataset[1][\"seg\"])[..., 50] > 0)], 100);"
   ]
  },
  {
   "cell_type": "code",
   "execution_count": 8,
   "metadata": {},
   "outputs": [],
   "source": [
    "def visualize(**images):\n",
    "\n",
    "    n = len(images)\n",
    "    plt.figure(figsize=(16, 5))\n",
    "    for i, (name, image) in enumerate(images.items()):\n",
    "        plt.subplot(1, n, i + 1)\n",
    "        plt.xticks([])\n",
    "        plt.yticks([])\n",
    "        plt.imshow(image)\n",
    "    plt.show()\n",
    "\n"
   ]
  },
  {
   "cell_type": "code",
   "execution_count": 9,
   "metadata": {},
   "outputs": [],
   "source": [
    "def get_training_augmentation():\n",
    "    train_transform = [\n",
    "        albu.Flip(),\n",
    "        albu.ShiftScaleRotate(scale_limit=0.5, rotate_limit=0, shift_limit=0.1, p=1, border_mode=0, value=-1024),\n",
    "        albu.Blur(blur_limit=3, p=0.9),\n",
    "        albu.IAAAdditiveGaussianNoise(p=0.2),   \n",
    "        \n",
    "        albu.OneOf([\n",
    "                albu.ElasticTransform(value=-1024, p=1.),\n",
    "                albu.OpticalDistortion(value=-1024, p=1.),\n",
    "                albu.GridDistortion(value=-1024, p=1.),\n",
    "            ], .8),\n",
    "    ]\n",
    "    return albu.Compose(train_transform)\n",
    "\n",
    "\n",
    "def get_validation_augmentation():\n",
    "    \"\"\"Add paddings to make image shape divisible by 32\"\"\"\n",
    "    test_transform = [\n",
    "        albu.PadIfNeeded(384, 480)\n",
    "    ]\n",
    "    return albu.Compose(test_transform)"
   ]
  },
  {
   "cell_type": "code",
   "execution_count": 10,
   "metadata": {},
   "outputs": [],
   "source": [
    "ALL_CLASSES = [str(i + 1) for i in range(10)]"
   ]
  },
  {
   "cell_type": "code",
   "execution_count": 11,
   "metadata": {},
   "outputs": [],
   "source": [
    "ENCODER = 'efficientnet-b0'\n",
    "ENCODER_WEIGHTS = 'imagenet'\n",
    "ACTIVATION = 'softmax2d' # could be None for logits or 'softmax2d' for multicalss segmentation\n",
    "DEVICE = 'cuda'\n",
    "CLASSES = ALL_CLASSES\n",
    "\n",
    "model = smp.FPN(\n",
    "    in_channels=1,\n",
    "    decoder_dropout=.3,\n",
    "    encoder_name=ENCODER, \n",
    "    encoder_weights=ENCODER_WEIGHTS, \n",
    "    activation='identity',\n",
    "    classes=len(CLASSES),\n",
    ")\n"
   ]
  },
  {
   "cell_type": "code",
   "execution_count": 12,
   "metadata": {},
   "outputs": [],
   "source": [
    "dataset_train = BrainDataset(directory,\n",
    "                             sorted(imgs)[:-1],\n",
    "                             sorted(segs)[:-1],\n",
    "                             sorted(txts)[:-1],\n",
    "                             augmentation = get_training_augmentation(),\n",
    "                             classes=CLASSES)\n",
    "\n",
    "dataset_validation = BrainDataset(directory,\n",
    "                                  [sorted(imgs)[-1]],\n",
    "                                  [sorted(segs)[-1]],\n",
    "                                  [sorted(txts)[-1]],\n",
    "                                  classes=CLASSES)\n",
    "\n",
    "sampler = CustomSampler(dataset_train, 300)\n",
    "\n",
    "data_loader_train = DataLoader(dataset_train, batch_size=6, sampler=sampler)\n",
    "data_loader_validation = DataLoader(dataset_validation, batch_size=6, shuffle=False)"
   ]
  },
  {
   "cell_type": "code",
   "execution_count": 13,
   "metadata": {},
   "outputs": [
    {
     "data": {
      "text/plain": [
       "(10, 512, 512)"
      ]
     },
     "execution_count": 13,
     "metadata": {},
     "output_type": "execute_result"
    }
   ],
   "source": [
    "dataset_train[150][1].shape"
   ]
  },
  {
   "cell_type": "code",
   "execution_count": 14,
   "metadata": {},
   "outputs": [
    {
     "data": {
      "text/plain": [
       "(512, 512)"
      ]
     },
     "execution_count": 14,
     "metadata": {},
     "output_type": "execute_result"
    }
   ],
   "source": [
    "dataset_train.slices[144][\"mask\"].shape"
   ]
  },
  {
   "cell_type": "code",
   "execution_count": 15,
   "metadata": {},
   "outputs": [],
   "source": [
    "import math\n",
    "import numpy as np\n",
    "\n",
    "from typing import Optional\n",
    "\n",
    "import torch\n",
    "import torch.nn.functional as F\n",
    "\n",
    "\n",
    "__all__ = [\n",
    "    \"focal_loss_with_logits\",\n",
    "    \"softmax_focal_loss_with_logits\",\n",
    "    \"soft_jaccard_score\",\n",
    "    \"soft_dice_score\",\n",
    "    \"wing_loss\",\n",
    "]\n",
    "\n",
    "\n",
    "def to_tensor(x, dtype=None) -> torch.Tensor:\n",
    "    if isinstance(x, torch.Tensor):\n",
    "        if dtype is not None:\n",
    "            x = x.type(dtype)\n",
    "        return x\n",
    "    if isinstance(x, np.ndarray):\n",
    "        x = torch.from_numpy(x)\n",
    "        if dtype is not None:\n",
    "            x = x.type(dtype)\n",
    "        return x\n",
    "    if isinstance(x, (list, tuple)):\n",
    "        x = np.ndarray(x)\n",
    "        x = torch.from_numpy(x)\n",
    "        if dtype is not None:\n",
    "            x = x.type(dtype)\n",
    "        return x\n",
    "\n",
    "\n",
    "def focal_loss_with_logits(\n",
    "    output: torch.Tensor,\n",
    "    target: torch.Tensor,\n",
    "    gamma: float = 2.0,\n",
    "    alpha: Optional[float] = 0.25,\n",
    "    reduction: str = \"mean\",\n",
    "    normalized: bool = False,\n",
    "    reduced_threshold: Optional[float] = None,\n",
    "    eps: float = 1e-6,\n",
    ") -> torch.Tensor:\n",
    "    \"\"\"Compute binary focal loss between target and output logits.\n",
    "    See :class:`~pytorch_toolbelt.losses.FocalLoss` for details.\n",
    "    Args:\n",
    "        output: Tensor of arbitrary shape (predictions of the model)\n",
    "        target: Tensor of the same shape as input\n",
    "        gamma: Focal loss power factor\n",
    "        alpha: Weight factor to balance positive and negative samples. Alpha must be in [0...1] range,\n",
    "            high values will give more weight to positive class.\n",
    "        reduction (string, optional): Specifies the reduction to apply to the output:\n",
    "            'none' | 'mean' | 'sum' | 'batchwise_mean'. 'none': no reduction will be applied,\n",
    "            'mean': the sum of the output will be divided by the number of\n",
    "            elements in the output, 'sum': the output will be summed. Note: :attr:`size_average`\n",
    "            and :attr:`reduce` are in the process of being deprecated, and in the meantime,\n",
    "            specifying either of those two args will override :attr:`reduction`.\n",
    "            'batchwise_mean' computes mean loss per sample in batch. Default: 'mean'\n",
    "        normalized (bool): Compute normalized focal loss (https://arxiv.org/pdf/1909.07829.pdf).\n",
    "        reduced_threshold (float, optional): Compute reduced focal loss (https://arxiv.org/abs/1903.01347).\n",
    "    References:\n",
    "        https://github.com/open-mmlab/mmdetection/blob/master/mmdet/core/loss/losses.py\n",
    "    \"\"\"\n",
    "    target = target.type(output.type())\n",
    "\n",
    "    logpt = F.binary_cross_entropy_with_logits(output, target, reduction=\"none\")\n",
    "    pt = torch.exp(-logpt)\n",
    "\n",
    "    # compute the loss\n",
    "    if reduced_threshold is None:\n",
    "        focal_term = (1.0 - pt).pow(gamma)\n",
    "    else:\n",
    "        focal_term = ((1.0 - pt) / reduced_threshold).pow(gamma)\n",
    "        focal_term[pt < reduced_threshold] = 1\n",
    "\n",
    "    loss = focal_term * logpt\n",
    "\n",
    "    if alpha is not None:\n",
    "        loss *= alpha * target + (1 - alpha) * (1 - target)\n",
    "\n",
    "    if normalized:\n",
    "        norm_factor = focal_term.sum().clamp_min(eps)\n",
    "        loss /= norm_factor\n",
    "\n",
    "    if reduction == \"mean\":\n",
    "        loss = loss.mean()\n",
    "    if reduction == \"sum\":\n",
    "        loss = loss.sum()\n",
    "    if reduction == \"batchwise_mean\":\n",
    "        loss = loss.sum(0)\n",
    "\n",
    "    return loss\n",
    "\n",
    "\n",
    "def softmax_focal_loss_with_logits(\n",
    "    output: torch.Tensor,\n",
    "    target: torch.Tensor,\n",
    "    gamma: float = 2.0,\n",
    "    reduction=\"mean\",\n",
    "    normalized=False,\n",
    "    reduced_threshold: Optional[float] = None,\n",
    "    eps: float = 1e-6,\n",
    ") -> torch.Tensor:\n",
    "    \"\"\"Softmax version of focal loss between target and output logits.\n",
    "    See :class:`~pytorch_toolbelt.losses.FocalLoss` for details.\n",
    "    Args:\n",
    "        output: Tensor of shape [B, C, *] (Similar to nn.CrossEntropyLoss)\n",
    "        target: Tensor of shape [B, *] (Similar to nn.CrossEntropyLoss)\n",
    "        reduction (string, optional): Specifies the reduction to apply to the output:\n",
    "            'none' | 'mean' | 'sum' | 'batchwise_mean'. 'none': no reduction will be applied,\n",
    "            'mean': the sum of the output will be divided by the number of\n",
    "            elements in the output, 'sum': the output will be summed. Note: :attr:`size_average`\n",
    "            and :attr:`reduce` are in the process of being deprecated, and in the meantime,\n",
    "            specifying either of those two args will override :attr:`reduction`.\n",
    "            'batchwise_mean' computes mean loss per sample in batch. Default: 'mean'\n",
    "        normalized (bool): Compute normalized focal loss (https://arxiv.org/pdf/1909.07829.pdf).\n",
    "        reduced_threshold (float, optional): Compute reduced focal loss (https://arxiv.org/abs/1903.01347).\n",
    "    \"\"\"\n",
    "    log_softmax = F.log_softmax(output, dim=1)\n",
    "\n",
    "    loss = F.nll_loss(log_softmax, target, reduction=\"none\")\n",
    "    pt = torch.exp(-loss)\n",
    "\n",
    "    # compute the loss\n",
    "    if reduced_threshold is None:\n",
    "        focal_term = (1.0 - pt).pow(gamma)\n",
    "    else:\n",
    "        focal_term = ((1.0 - pt) / reduced_threshold).pow(gamma)\n",
    "        focal_term[pt < reduced_threshold] = 1\n",
    "\n",
    "    loss = focal_term * loss\n",
    "\n",
    "    if normalized:\n",
    "        norm_factor = focal_term.sum().clamp_min(eps)\n",
    "        loss = loss / norm_factor\n",
    "\n",
    "    if reduction == \"mean\":\n",
    "        loss = loss.mean()\n",
    "    if reduction == \"sum\":\n",
    "        loss = loss.sum()\n",
    "    if reduction == \"batchwise_mean\":\n",
    "        loss = loss.sum(0)\n",
    "\n",
    "    return loss\n",
    "\n",
    "\n",
    "def soft_jaccard_score(\n",
    "    output: torch.Tensor, target: torch.Tensor, smooth: float = 0.0, eps: float = 1e-7, dims=None\n",
    ") -> torch.Tensor:\n",
    "    assert output.size() == target.size()\n",
    "    if dims is not None:\n",
    "        intersection = torch.sum(output * target, dim=dims)\n",
    "        cardinality = torch.sum(output + target, dim=dims)\n",
    "    else:\n",
    "        intersection = torch.sum(output * target)\n",
    "        cardinality = torch.sum(output + target)\n",
    "\n",
    "    union = cardinality - intersection\n",
    "    jaccard_score = (intersection + smooth) / (union + smooth).clamp_min(eps)\n",
    "    return jaccard_score\n",
    "\n",
    "\n",
    "def soft_dice_score(\n",
    "    output: torch.Tensor, target: torch.Tensor, smooth: float = 0.0, eps: float = 1e-7, dims=None\n",
    ") -> torch.Tensor:\n",
    "    assert output.size() == target.size()\n",
    "    if dims is not None:\n",
    "        intersection = torch.sum(output * target, dim=dims)\n",
    "        cardinality = torch.sum(output + target, dim=dims)\n",
    "    else:\n",
    "        intersection = torch.sum(output * target)\n",
    "        cardinality = torch.sum(output + target)\n",
    "    dice_score = (2.0 * intersection + smooth) / (cardinality + smooth).clamp_min(eps)\n",
    "    return dice_score\n",
    "\n",
    "\n",
    "def wing_loss(output: torch.Tensor, target: torch.Tensor, width=5, curvature=0.5, reduction=\"mean\"):\n",
    "    \"\"\"\n",
    "    https://arxiv.org/pdf/1711.06753.pdf\n",
    "    :param output:\n",
    "    :param target:\n",
    "    :param width:\n",
    "    :param curvature:\n",
    "    :param reduction:\n",
    "    :return:\n",
    "    \"\"\"\n",
    "    diff_abs = (target - output).abs()\n",
    "    loss = diff_abs.clone()\n",
    "\n",
    "    idx_smaller = diff_abs < width\n",
    "    idx_bigger = diff_abs >= width\n",
    "\n",
    "    loss[idx_smaller] = width * torch.log(1 + diff_abs[idx_smaller] / curvature)\n",
    "\n",
    "    C = width - width * math.log(1 + width / curvature)\n",
    "    loss[idx_bigger] = loss[idx_bigger] - C\n",
    "\n",
    "    if reduction == \"sum\":\n",
    "        loss = loss.sum()\n",
    "\n",
    "    if reduction == \"mean\":\n",
    "        loss = loss.mean()\n",
    "\n",
    "    return loss\n",
    "\n",
    "\n",
    "def label_smoothed_nll_loss(\n",
    "    lprobs: torch.Tensor, target: torch.Tensor, epsilon: float, ignore_index=None, reduction=\"mean\", dim=-1\n",
    ") -> torch.Tensor:\n",
    "    \"\"\"\n",
    "    Source: https://github.com/pytorch/fairseq/blob/master/fairseq/criterions/label_smoothed_cross_entropy.py\n",
    "    :param lprobs: Log-probabilities of predictions (e.g after log_softmax)\n",
    "    :param target:\n",
    "    :param epsilon:\n",
    "    :param ignore_index:\n",
    "    :param reduction:\n",
    "    :return:\n",
    "    \"\"\"\n",
    "    if target.dim() == lprobs.dim() - 1:\n",
    "        target = target.unsqueeze(dim)\n",
    "\n",
    "    if ignore_index is not None:\n",
    "        pad_mask = target.eq(ignore_index)\n",
    "        target = target.masked_fill(pad_mask, 0)\n",
    "        nll_loss = -lprobs.gather(dim=dim, index=target)\n",
    "        smooth_loss = -lprobs.sum(dim=dim, keepdim=True)\n",
    "\n",
    "        # nll_loss.masked_fill_(pad_mask, 0.0)\n",
    "        # smooth_loss.masked_fill_(pad_mask, 0.0)\n",
    "        nll_loss = nll_loss.masked_fill(pad_mask, 0.0)\n",
    "        smooth_loss = smooth_loss.masked_fill(pad_mask, 0.0)\n",
    "    else:\n",
    "        nll_loss = -lprobs.gather(dim=dim, index=target)\n",
    "        smooth_loss = -lprobs.sum(dim=dim, keepdim=True)\n",
    "\n",
    "        nll_loss = nll_loss.squeeze(dim)\n",
    "        smooth_loss = smooth_loss.squeeze(dim)\n",
    "\n",
    "    if reduction == \"sum\":\n",
    "        nll_loss = nll_loss.sum()\n",
    "        smooth_loss = smooth_loss.sum()\n",
    "    if reduction == \"mean\":\n",
    "        nll_loss = nll_loss.mean()\n",
    "        smooth_loss = smooth_loss.mean()\n",
    "\n",
    "    eps_i = epsilon / lprobs.size(dim)\n",
    "    loss = (1.0 - epsilon) * nll_loss + eps_i * smooth_loss\n",
    "    return loss"
   ]
  },
  {
   "cell_type": "code",
   "execution_count": 18,
   "metadata": {},
   "outputs": [],
   "source": [
    "from typing import Optional, List\n",
    "\n",
    "import torch\n",
    "import torch.nn.functional as F\n",
    "from torch.nn.modules.loss import _Loss\n",
    "\n",
    "\n",
    "class DiceLoss(_Loss):\n",
    "\n",
    "    def __init__(\n",
    "        self,\n",
    "        mode: str,\n",
    "        classes: Optional[List[int]] = None,\n",
    "        log_loss: bool = False,\n",
    "        from_logits: bool = True,\n",
    "        smooth: float = 0.0,\n",
    "        ignore_index: Optional[int] = None,\n",
    "        eps: float = 1e-7,\n",
    "    ):\n",
    "        \"\"\"Implementation of Dice loss for image segmentation task.\n",
    "        It supports binary, multiclass and multilabel cases\n",
    "        Args:\n",
    "            mode: Loss mode 'binary', 'multiclass' or 'multilabel'\n",
    "            classes:  List of classes that contribute in loss computation. By default, all channels are included.\n",
    "            log_loss: If True, loss computed as `- log(dice_coeff)`, otherwise `1 - dice_coeff`\n",
    "            from_logits: If True, assumes input is raw logits\n",
    "            smooth: Smoothness constant for dice coefficient (a)\n",
    "            ignore_index: Label that indicates ignored pixels (does not contribute to loss)\n",
    "            eps: A small epsilon for numerical stability to avoid zero division error \n",
    "                (denominator will be always greater or equal to eps)\n",
    "        Shape\n",
    "             - **y_pred** - torch.Tensor of shape (N, C, H, W)\n",
    "             - **y_true** - torch.Tensor of shape (N, H, W) or (N, C, H, W)\n",
    "        Reference\n",
    "            https://github.com/BloodAxe/pytorch-toolbelt\n",
    "        \"\"\"\n",
    "        super(DiceLoss, self).__init__()\n",
    "        self.mode = mode\n",
    "\n",
    "        self.classes = classes\n",
    "        self.from_logits = from_logits\n",
    "        self.smooth = smooth\n",
    "        self.eps = eps\n",
    "        self.log_loss = log_loss\n",
    "\n",
    "    def forward(self, y_pred: torch.Tensor, y_true: torch.Tensor) -> torch.Tensor:\n",
    "\n",
    "        assert y_true.size(0) == y_pred.size(0)\n",
    "\n",
    "        if self.from_logits:\n",
    "            # Apply activations to get [0..1] class probabilities\n",
    "            # Using Log-Exp as this gives more numerically stable result and does not cause vanishing gradient on\n",
    "            # extreme values 0 and 1\n",
    "            y_pred = F.logsigmoid(y_pred).exp()\n",
    "\n",
    "        bs = y_true.size(0)\n",
    "        num_classes = y_pred.size(1)\n",
    "        dims = (0, 2)\n",
    "\n",
    "        y_true = y_true.view(bs, num_classes, -1)\n",
    "        y_pred = y_pred.view(bs, num_classes, -1)\n",
    "\n",
    "        scores = soft_dice_score(y_pred, y_true.type_as(y_pred), smooth=self.smooth, eps=self.eps, dims=dims)\n",
    "\n",
    "        if self.log_loss:\n",
    "            loss = -torch.log(scores.clamp_min(self.eps))\n",
    "        else:\n",
    "            loss = 1.0 - scores\n",
    "\n",
    "        # Dice loss is undefined for non-empty classes\n",
    "        # So we zero contribution of channel that does not have true pixels\n",
    "        # NOTE: A better workaround would be to use loss term `mean(y_pred)`\n",
    "        # for this case, however it will be a modified jaccard loss\n",
    "\n",
    "        mask = y_true.sum(dims) > 0\n",
    "        loss *= mask.to(loss.dtype)\n",
    "\n",
    "        if self.classes is not None:\n",
    "            loss = loss[self.classes]\n",
    "\n",
    "        return loss.mean()"
   ]
  },
  {
   "cell_type": "code",
   "execution_count": 19,
   "metadata": {},
   "outputs": [],
   "source": [
    "import torch\n",
    "import numpy as np\n",
    "import segmentation_models_pytorch as smp\n",
    "\n",
    "\n",
    "class Loss(nn.Module):\n",
    "    def __init__(self):\n",
    "        super(Loss, self).__init__()\n",
    "        self.__name__ = 'BCE + LogDice loss'\n",
    "        self.dice = DiceLoss(mode=\"multilabel\", log_loss=True, from_logits=True)\n",
    "        self.bce = torch.nn.BCEWithLogitsLoss()\n",
    "\n",
    "    def forward(self, input, labels):\n",
    "        bces = torch.mean(torch.stack([\n",
    "            self.bce(input[:, i].flatten(), (labels[:, i].flatten() > 0).float())\n",
    "            for i in range(input.size(1)) ]))\n",
    "\n",
    "        return self.dice(input, labels) + bces\n",
    "    \n",
    "    \n",
    "loss = Loss()"
   ]
  },
  {
   "cell_type": "code",
   "execution_count": 20,
   "metadata": {},
   "outputs": [],
   "source": [
    "# loss = smp.utils.losses.DiceLoss()\n",
    "metrics = [\n",
    "    smp.utils.metrics.IoU(threshold=0.5),\n",
    "]\n",
    "\n",
    "optimizer = torch.optim.Adam([ \n",
    "    dict(params=model.parameters(), lr=0.001),\n",
    "])"
   ]
  },
  {
   "cell_type": "code",
   "execution_count": 21,
   "metadata": {},
   "outputs": [],
   "source": [
    "train_epoch = smp.utils.train.TrainEpoch(\n",
    "    model,\n",
    "    device=DEVICE,\n",
    "    loss=loss, \n",
    "    metrics=metrics, \n",
    "    optimizer=optimizer,\n",
    "    verbose=True,\n",
    ")\n",
    "\n",
    "valid_epoch = smp.utils.train.ValidEpoch(\n",
    "    model,\n",
    "    device=DEVICE,\n",
    "    loss=loss, \n",
    "    metrics=metrics, \n",
    "    verbose=True,\n",
    ")"
   ]
  },
  {
   "cell_type": "code",
   "execution_count": 22,
   "metadata": {},
   "outputs": [],
   "source": [
    "import torch.optim.lr_scheduler\n",
    "scheduler = torch.optim.lr_scheduler.ReduceLROnPlateau(optimizer, patience=3, factor=.1, verbose=True, threshold=1e-5, mode='max')"
   ]
  },
  {
   "cell_type": "code",
   "execution_count": null,
   "metadata": {},
   "outputs": [
    {
     "name": "stdout",
     "output_type": "stream",
     "text": [
      "valid: 100%|██████████| 17/17 [00:02<00:00,  7.32it/s, BCE + LogDice loss - 0.1216, iou_score - 0.3969]  \n",
      "saving\n"
     ]
    },
    {
     "name": "stderr",
     "output_type": "stream",
     "text": [
      "/home/vess/dist/crt/lib/python3.8/site-packages/torch/optim/lr_scheduler.py:628: UserWarning: The epoch parameter in `scheduler.step()` was not necessary and is being deprecated where possible. Please use `scheduler.step()` to step the scheduler. During the deprecation, if epoch is different from None, the closed form is used instead of the new chainable form, where available. Please open an issue if you are unable to replicate your use case: https://github.com/pytorch/pytorch/issues/new/choose.\n",
      "  warnings.warn(EPOCH_DEPRECATION_WARNING, UserWarning)\n",
      "/home/vess/dist/crt/lib/python3.8/site-packages/torch/nn/functional.py:1639: UserWarning: nn.functional.sigmoid is deprecated. Use torch.sigmoid instead.\n",
      "  warnings.warn(\"nn.functional.sigmoid is deprecated. Use torch.sigmoid instead.\")\n"
     ]
    },
    {
     "data": {
      "image/png": "[encoded data removed]",
      "text/plain": [
       "<Figure size 720x720 with 10 Axes>"
      ]
     },
     "metadata": {
      "needs_background": "light"
     },
     "output_type": "display_data"
    },
    {
     "name": "stdout",
     "output_type": "stream",
     "text": [
      "\n",
      "Epoch: 1\n",
      "train:  15%|█▍        | 82/550 [01:12<06:16,  1.24it/s, BCE + LogDice loss - 0.6104, iou_score - 0.5278]"
     ]
    }
   ],
   "source": [
    "max_score = 0\n",
    "# optimizer.param_groups[0]['lr'] = 1e-2\n",
    "for i in range(0, 156):\n",
    "    \n",
    "    print('\\nEpoch: {}'.format(i))\n",
    "    train_logs = train_epoch.run(data_loader_train)\n",
    "    clear_output()\n",
    "    valid_logs = valid_epoch.run(data_loader_validation)\n",
    "    scheduler.step(valid_logs['iou_score'], epoch=i)\n",
    "\n",
    "    if max_score < valid_logs['iou_score']:\n",
    "        max_score = valid_logs['iou_score']\n",
    "        torch.save(model, './best_model.pth')\n",
    "        print('saving')\n",
    "        \n",
    "    fig=plt.figure(figsize=(10, 10))\n",
    "    model.eval()\n",
    "    with torch.no_grad():\n",
    "        image = torch.autograd.Variable(torch.tensor(dataset_validation[76][0]).unsqueeze(0)).cuda()\n",
    "        prediction = torch.nn.functional.sigmoid(model(image))\n",
    "\n",
    "        prednew = torch.argmax(prediction.cpu(), dim=1) + 1\n",
    "        prednew[prediction.max(1)[0]<0.5] = 0\n",
    "\n",
    "        fig.add_subplot(4, 2, 1)\n",
    "        plt.axis('off')\n",
    "        io.imshow(color.label2rgb(np.asarray(prednew.detach().cpu().squeeze()), bg_label=0))\n",
    "\n",
    "        valid = np.argmax(dataset_validation[76][1], axis=0)\n",
    "        fig.add_subplot(4, 2, 2)\n",
    "        plt.axis('off')\n",
    "        io.imshow(color.label2rgb(valid, bg_label=0))\n",
    "\n",
    "        image = torch.autograd.Variable(torch.tensor(dataset_validation[76][0]).unsqueeze(0)).cuda()\n",
    "        prediction = torch.nn.functional.sigmoid(model(image))\n",
    "        fig.add_subplot(4, 2, 5)\n",
    "        a = plt.imshow(prediction[0,6,:,:].cpu())\n",
    "        plt.axis('off')\n",
    "        plt.colorbar(a)\n",
    "\n",
    "        image = torch.autograd.Variable(torch.tensor(dataset_validation[60][0]).unsqueeze(0)).cuda()\n",
    "        prediction = torch.nn.functional.sigmoid(model(image))\n",
    "        fig.add_subplot(4, 2, 6)\n",
    "        plt.axis('off')\n",
    "        a = plt.imshow(prediction[0,4,:,:].cpu())\n",
    "        plt.colorbar(a)\n",
    "\n",
    "\n",
    "\n",
    "    fig.add_subplot(4, 2, 3)\n",
    "    a = plt.imshow(dataset_validation[76][1][6])\n",
    "    plt.axis('off')\n",
    "    plt.colorbar(a)\n",
    "\n",
    "    fig.add_subplot(4, 2, 4)\n",
    "    a = plt.imshow(dataset_validation[60][1][4])\n",
    "    plt.axis('off')\n",
    "    plt.colorbar(a)\n",
    "\n",
    "\n",
    "\n",
    "    plt.show()\n",
    "        "
   ]
  },
  {
   "cell_type": "code",
   "execution_count": null,
   "metadata": {},
   "outputs": [],
   "source": []
  },
  {
   "cell_type": "code",
   "execution_count": null,
   "metadata": {},
   "outputs": [],
   "source": []
  },
  {
   "cell_type": "code",
   "execution_count": null,
   "metadata": {},
   "outputs": [],
   "source": []
  },
  {
   "cell_type": "code",
   "execution_count": null,
   "metadata": {},
   "outputs": [],
   "source": []
  },
  {
   "cell_type": "code",
   "execution_count": null,
   "metadata": {},
   "outputs": [],
   "source": []
  },
  {
   "cell_type": "code",
   "execution_count": null,
   "metadata": {},
   "outputs": [],
   "source": []
  },
  {
   "cell_type": "code",
   "execution_count": null,
   "metadata": {},
   "outputs": [],
   "source": []
  },
  {
   "cell_type": "code",
   "execution_count": null,
   "metadata": {},
   "outputs": [],
   "source": []
  },
  {
   "cell_type": "code",
   "execution_count": null,
   "metadata": {},
   "outputs": [],
   "source": []
  },
  {
   "cell_type": "code",
   "execution_count": null,
   "metadata": {},
   "outputs": [],
   "source": []
  },
  {
   "cell_type": "code",
   "execution_count": null,
   "metadata": {},
   "outputs": [],
   "source": []
  },
  {
   "cell_type": "code",
   "execution_count": 172,
   "metadata": {},
   "outputs": [
    {
     "data": {
      "text/plain": [
       "{'image': array([[0, 0, 0, ..., 0, 0, 0],\n",
       "        [0, 0, 0, ..., 0, 0, 0],\n",
       "        [0, 0, 0, ..., 0, 0, 0],\n",
       "        ...,\n",
       "        [0, 0, 0, ..., 0, 0, 0],\n",
       "        [0, 0, 0, ..., 0, 0, 0],\n",
       "        [0, 0, 0, ..., 0, 0, 0]], dtype=int16),\n",
       " 'mask': array([[0, 0, 0, ..., 0, 0, 0],\n",
       "        [0, 0, 0, ..., 0, 0, 0],\n",
       "        [0, 0, 0, ..., 0, 0, 0],\n",
       "        ...,\n",
       "        [0, 0, 0, ..., 0, 0, 0],\n",
       "        [0, 0, 0, ..., 0, 0, 0],\n",
       "        [0, 0, 0, ..., 0, 0, 0]], dtype=uint16)}"
      ]
     },
     "execution_count": 172,
     "metadata": {},
     "output_type": "execute_result"
    }
   ],
   "source": [
    "dataset[5]"
   ]
  },
  {
   "cell_type": "code",
   "execution_count": null,
   "metadata": {},
   "outputs": [],
   "source": []
  },
  {
   "cell_type": "code",
   "execution_count": 31,
   "metadata": {},
   "outputs": [
    {
     "name": "stdout",
     "output_type": "stream",
     "text": [
      "(512, 512, 102)\n",
      "(512, 512, 104)\n",
      "(512, 512, 98)\n",
      "(512, 512, 116)\n",
      "(512, 512, 106)\n",
      "(512, 512, 104)\n",
      "(512, 512, 103)\n"
     ]
    }
   ],
   "source": [
    "# примерно равномерное кол-во слайсов\n",
    "for item in dataset:\n",
    "    print(item[\"image\"].shape)"
   ]
  },
  {
   "cell_type": "code",
   "execution_count": 107,
   "metadata": {},
   "outputs": [],
   "source": [
    "transform = read_transform_txt('/data/datasets/test_task_cmai/Brain_CT_labeling/5.txt')\n",
    "transform2 = read_transform_txt('/data/datasets/test_task_cmai/Brain_CT_labeling/3.txt')"
   ]
  },
  {
   "cell_type": "code",
   "execution_count": 108,
   "metadata": {},
   "outputs": [
    {
     "data": {
      "text/plain": [
       "(4, 4)"
      ]
     },
     "execution_count": 108,
     "metadata": {},
     "output_type": "execute_result"
    }
   ],
   "source": [
    "transform.shape"
   ]
  },
  {
   "cell_type": "code",
   "execution_count": 109,
   "metadata": {},
   "outputs": [
    {
     "data": {
      "text/plain": [
       "array([[ 9.99656186e-01, -3.02974720e-04, -2.62193562e-02,\n",
       "        -3.20964484e+00],\n",
       "       [ 5.78695879e-03,  9.77826173e-01,  2.09338189e-01,\n",
       "         2.85809960e+01],\n",
       "       [ 2.55745482e-02, -2.09417943e-01,  9.77491724e-01,\n",
       "        -3.35225861e+01],\n",
       "       [ 0.00000000e+00,  0.00000000e+00,  0.00000000e+00,\n",
       "         1.00000000e+00]])"
      ]
     },
     "execution_count": 109,
     "metadata": {},
     "output_type": "execute_result"
    }
   ],
   "source": [
    "transform"
   ]
  },
  {
   "cell_type": "code",
   "execution_count": 110,
   "metadata": {},
   "outputs": [
    {
     "data": {
      "text/plain": [
       "array([[ 9.78556768e-01,  2.01052027e-01,  4.47742650e-02,\n",
       "         4.30435833e+01],\n",
       "       [-2.05916800e-01,  9.49608500e-01,  2.36309054e-01,\n",
       "         4.00409999e+01],\n",
       "       [ 4.99239168e-03, -2.40461597e-01,  9.70645814e-01,\n",
       "        -4.65378363e+01],\n",
       "       [ 0.00000000e+00,  0.00000000e+00,  0.00000000e+00,\n",
       "         1.00000000e+00]])"
      ]
     },
     "execution_count": 110,
     "metadata": {},
     "output_type": "execute_result"
    }
   ],
   "source": [
    "transform2"
   ]
  },
  {
   "cell_type": "code",
   "execution_count": 111,
   "metadata": {},
   "outputs": [],
   "source": [
    "rot_matrix2 = transform2[:3, :-1]\n",
    "rot_matrix = transform[:3, :-1]"
   ]
  },
  {
   "cell_type": "code",
   "execution_count": 112,
   "metadata": {},
   "outputs": [
    {
     "data": {
      "text/plain": [
       "array([[ 9.57573348e-01, -4.13999901e-02,  2.23530668e-04],\n",
       "       [-4.13999901e-02,  9.01756303e-01, -5.68232524e-02],\n",
       "       [ 2.23530668e-04, -5.68232524e-02,  9.42153296e-01]])"
      ]
     },
     "execution_count": 112,
     "metadata": {},
     "output_type": "execute_result"
    }
   ],
   "source": [
    "rot_matrix2 * rot_matrix2.T"
   ]
  },
  {
   "cell_type": "code",
   "execution_count": 116,
   "metadata": {},
   "outputs": [
    {
     "data": {
      "text/plain": [
       "array([[ 9.99656186e-01, -3.02974720e-04, -2.62193562e-02],\n",
       "       [ 5.78695879e-03,  9.77826173e-01,  2.09338189e-01],\n",
       "       [ 2.55745482e-02, -2.09417943e-01,  9.77491724e-01]])"
      ]
     },
     "execution_count": 116,
     "metadata": {},
     "output_type": "execute_result"
    }
   ],
   "source": [
    "rot_matrix"
   ]
  },
  {
   "cell_type": "code",
   "execution_count": 117,
   "metadata": {},
   "outputs": [
    {
     "data": {
      "text/plain": [
       "array([[ 9.99656186e-01, -3.02974720e-04, -2.62193562e-02],\n",
       "       [ 5.78695879e-03,  9.77826173e-01,  2.09338189e-01],\n",
       "       [ 2.55745482e-02, -2.09417943e-01,  9.77491724e-01]])"
      ]
     },
     "execution_count": 117,
     "metadata": {},
     "output_type": "execute_result"
    }
   ],
   "source": [
    "rot_matrix.reshape(9).reshape(3,3)"
   ]
  },
  {
   "cell_type": "code",
   "execution_count": 83,
   "metadata": {},
   "outputs": [
    {
     "data": {
      "text/plain": [
       "array([[ 9.99656186e-01, -3.02974720e-04, -2.62193562e-02],\n",
       "       [ 5.78695879e-03,  9.77826173e-01,  2.09338189e-01],\n",
       "       [ 2.55745482e-02, -2.09417943e-01,  9.77491724e-01]])"
      ]
     },
     "execution_count": 83,
     "metadata": {},
     "output_type": "execute_result"
    }
   ],
   "source": [
    "rot_matrix"
   ]
  },
  {
   "cell_type": "code",
   "execution_count": 114,
   "metadata": {},
   "outputs": [
    {
     "data": {
      "text/plain": [
       "array([ 9.99656186e-01, -3.02974720e-04, -2.62193562e-02,  5.78695879e-03,\n",
       "        9.77826173e-01,  2.09338189e-01,  2.55745482e-02, -2.09417943e-01,\n",
       "        9.77491724e-01])"
      ]
     },
     "execution_count": 114,
     "metadata": {},
     "output_type": "execute_result"
    }
   ],
   "source": [
    "rot_matrix.flatten()"
   ]
  },
  {
   "cell_type": "code",
   "execution_count": null,
   "metadata": {},
   "outputs": [],
   "source": [
    "0.9996561860578124 -0.00030297472012278596 -0.02621935620695316 0.005786958793343044 0.9778261731351183 0.2093381889852551 0.025574548225981146 -0.20941794334913094 0.9774917240718174"
   ]
  },
  {
   "cell_type": "code",
   "execution_count": 88,
   "metadata": {},
   "outputs": [
    {
     "data": {
      "text/plain": [
       "array([ -3.20964484,  28.580996  , -33.5225861 ])"
      ]
     },
     "execution_count": 88,
     "metadata": {},
     "output_type": "execute_result"
    }
   ],
   "source": [
    "offset.flatten()"
   ]
  },
  {
   "cell_type": "code",
   "execution_count": 142,
   "metadata": {},
   "outputs": [],
   "source": [
    "transform = read_transform_txt('/data/datasets/test_task_cmai/Brain_CT_labeling/3.txt')\n",
    "image = sitk.ReadImage(\"/data/datasets/test_task_cmai/Brain_CT_labeling/3.nii.gz\")\n",
    "seg = sitk.ReadImage(\"/data/datasets/test_task_cmai/Brain_CT_labeling/3-seg.nii.gz\")\n",
    "\n",
    "rot_matrix = transform[:3, :-1]\n",
    "offset = transform[:3,-1:]\n",
    "\n",
    "e3d_transform = sitk.Euler3DTransform()\n",
    "e3d_transform.SetMatrix(rot_matrix.flatten())\n",
    "e3d_transform.SetTranslation(offset.reshape( 3))\n",
    "e3d_transform.TransformPoint([0,0,0])\n",
    "\n",
    "\n",
    "image = sitk.Resample(image, e3d_transform, sitk.sitkNearestNeighbor)\n",
    "image_data = sitk.GetArrayFromImage(image)\n",
    "image_data = np.moveaxis(image_data, 0, -1)\n",
    "    \n",
    "seg_data = sitk.GetArrayFromImage(seg)\n",
    "seg_data = np.moveaxis(seg_data, 0, -1)\n"
   ]
  },
  {
   "cell_type": "code",
   "execution_count": 97,
   "metadata": {},
   "outputs": [
    {
     "data": {
      "text/plain": [
       "False"
      ]
     },
     "execution_count": 97,
     "metadata": {},
     "output_type": "execute_result"
    }
   ],
   "source": [
    "np.all((image_data == 0))"
   ]
  },
  {
   "cell_type": "code",
   "execution_count": 144,
   "metadata": {},
   "outputs": [],
   "source": [
    "image = sitk.ReadImage(\"/data/datasets/test_task_cmai/Brain_CT_labeling/5.nii.gz\")\n",
    "seg = sitk.ReadImage(\"/data/datasets/test_task_cmai/Brain_CT_labeling/5-seg.nii.gz\")\n",
    "\n",
    "image_data = sitk.GetArrayFromImage(image)\n",
    "image_data = np.moveaxis(image_data, 0, -1)\n",
    "    \n",
    "seg_data = sitk.GetArrayFromImage(seg)\n",
    "seg_data = np.moveaxis(seg_data, 0, -1)\n"
   ]
  },
  {
   "cell_type": "code",
   "execution_count": 145,
   "metadata": {},
   "outputs": [
    {
     "data": {
      "image/png": "[encoded data removed]",
      "text/plain": [
       "<Figure size 432x288 with 3 Axes>"
      ]
     },
     "metadata": {
      "needs_background": "light"
     },
     "output_type": "display_data"
    }
   ],
   "source": [
    "slice_1 = image_data[:, :, 55]\n",
    "slice_seg = seg_data[:, :, 55]\n",
    "show_slices([slice_0, slice_1, slice_seg])"
   ]
  },
  {
   "cell_type": "code",
   "execution_count": 139,
   "metadata": {},
   "outputs": [],
   "source": [
    "def show_slices(slices):\n",
    "    fig, axes = plt.subplots(1, len(slices))\n",
    "    for i, slice in enumerate(slices):\n",
    "        axes[i].imshow(slice.T, cmap=\"gray\", origin=\"lower\") "
   ]
  },
  {
   "cell_type": "code",
   "execution_count": 140,
   "metadata": {},
   "outputs": [
    {
     "data": {
      "image/png": "[encoded data removed]",
      "text/plain": [
       "<Figure size 432x288 with 3 Axes>"
      ]
     },
     "metadata": {
      "needs_background": "light"
     },
     "output_type": "display_data"
    }
   ],
   "source": [
    "slice_1 = image_data[:, :, 55]\n",
    "slice_seg = seg_data[:, :, 55]\n",
    "show_slices([slice_0, slice_1, slice_seg])"
   ]
  },
  {
   "cell_type": "code",
   "execution_count": 143,
   "metadata": {},
   "outputs": [
    {
     "data": {
      "image/png": "[encoded data removed]",
      "text/plain": [
       "<Figure size 432x288 with 3 Axes>"
      ]
     },
     "metadata": {
      "needs_background": "light"
     },
     "output_type": "display_data"
    }
   ],
   "source": [
    "slice_1 = image_data[:, :, 55]\n",
    "slice_seg = seg_data[:, :, 55]\n",
    "show_slices([slice_0, slice_1, slice_seg])"
   ]
  },
  {
   "cell_type": "code",
   "execution_count": 149,
   "metadata": {},
   "outputs": [],
   "source": [
    "slice_seg = seg_data[:, :, 55]"
   ]
  },
  {
   "cell_type": "code",
   "execution_count": 150,
   "metadata": {},
   "outputs": [
    {
     "data": {
      "text/plain": [
       "(512, 512)"
      ]
     },
     "execution_count": 150,
     "metadata": {},
     "output_type": "execute_result"
    }
   ],
   "source": [
    "slice_seg.shape"
   ]
  },
  {
   "cell_type": "code",
   "execution_count": null,
   "metadata": {},
   "outputs": [],
   "source": [
    "# model.eval()\n",
    "# with torch.no_grad():\n",
    "#     t = torch.as_tensor(dataset_validation[2][0])\n",
    "#     image = torch.autograd.Variable(t).cuda()\n",
    "#     prediction = model(t)"
   ]
  },
  {
   "cell_type": "code",
   "execution_count": null,
   "metadata": {},
   "outputs": [],
   "source": [
    "\n",
    "fig=plt.figure(figsize=(10, 10))\n",
    "\n",
    "fig.add_subplot(2, 2, 1)\n",
    "a = plt.imshow(dataset_validation[76][1][6])\n",
    "plt.colorbar(a)\n",
    "\n",
    "fig.add_subplot(2, 2, 2)\n",
    "a = plt.imshow(dataset_validation[60][1][4])\n",
    "plt.colorbar(a)\n",
    "model.eval()\n",
    "with torch.no_grad():\n",
    "    image = torch.autograd.Variable(torch.tensor(dataset_validation[76][0]).unsqueeze(0)).cuda()\n",
    "    prediction = model(image)\n",
    "    fig.add_subplot(2, 2, 3)\n",
    "    a = plt.imshow(prediction[0,6,:,:].cpu())\n",
    "    plt.colorbar(a)\n",
    "    \n",
    "    image = torch.autograd.Variable(torch.tensor(dataset_validation[60][0]).unsqueeze(0)).cuda()\n",
    "    prediction = model(image)\n",
    "    fig.add_subplot(2, 2, 4)\n",
    "    a = plt.imshow(prediction[0,4,:,:].cpu())\n",
    "    plt.colorbar(a)\n",
    "    \n",
    "    \n",
    "plt.show()"
   ]
  }
 ],
 "metadata": {
  "kernelspec": {
   "display_name": "Python 3",
   "language": "python",
   "name": "python3"
  },
  "language_info": {
   "codemirror_mode": {
    "name": "ipython",
    "version": 3
   },
   "file_extension": ".py",
   "mimetype": "text/x-python",
   "name": "python",
   "nbconvert_exporter": "python",
   "pygments_lexer": "ipython3",
   "version": "3.8.5"
  }
 },
 "nbformat": 4,
 "nbformat_minor": 4
}
