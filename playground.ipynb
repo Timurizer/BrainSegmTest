{
 "cells": [
  {
   "cell_type": "code",
   "execution_count": 3,
   "metadata": {},
   "outputs": [],
   "source": [
    "import nibabel as nib\n",
    "%matplotlib inline\n",
    "\n",
    "import SimpleITK as sitk\n",
    "\n",
    "import numpy as np \n",
    "import pandas as pd \n",
    "\n",
    "\n",
    "import os\n",
    "import scipy.ndimage\n",
    "import matplotlib.pyplot as plt\n",
    "\n",
    "%matplotlib inline"
   ]
  },
  {
   "cell_type": "code",
   "execution_count": 4,
   "metadata": {},
   "outputs": [],
   "source": [
    "img = nib.load('/data/datasets/test_task_cmai/Brain_CT_labeling/1.nii.gz')\n",
    "img_seg = nib.load('/data/datasets/test_task_cmai/Brain_CT_labeling/1-seg.nii.gz')"
   ]
  },
  {
   "cell_type": "code",
   "execution_count": 5,
   "metadata": {},
   "outputs": [],
   "source": [
    "directory = '/data/datasets/test_task_cmai/Brain_CT_labeling/'\n",
    "\n",
    "segs = []\n",
    "imgs = []\n",
    "\n",
    "for filename in os.listdir(directory):\n",
    "    if filename.endswith(\".gz\") or filename.endswith(\".nii\"):\n",
    "            if \"seg\" in filename:\n",
    "                segs.append(filename)\n",
    "            else:\n",
    "                imgs.append(filename)\n",
    "    else:\n",
    "        continue"
   ]
  },
  {
   "cell_type": "code",
   "execution_count": 6,
   "metadata": {},
   "outputs": [
    {
     "data": {
      "text/plain": [
       "['1.nii.gz',\n",
       " '2.nii.gz',\n",
       " '3.nii.gz',\n",
       " '4.nii.gz',\n",
       " '5.nii',\n",
       " '6.nii.gz',\n",
       " '7.nii.gz']"
      ]
     },
     "execution_count": 6,
     "metadata": {},
     "output_type": "execute_result"
    }
   ],
   "source": [
    "sorted(imgs)"
   ]
  },
  {
   "cell_type": "code",
   "execution_count": 7,
   "metadata": {},
   "outputs": [],
   "source": [
    "class Dataset:\n",
    "    \n",
    "    def __init__(self, path, images, segms):\n",
    "        self.path = path\n",
    "        self.images = images\n",
    "        self.segms = segms\n",
    "    \n",
    "    def __getitem__(self, idx):\n",
    "        \n",
    "        if idx >= len(self.images):\n",
    "            raise IndexError(\"list index out of range\")\n",
    "        \n",
    "        img = nib.load(self.path + self.images[idx]).get_fdata()\n",
    "        img_seg = nib.load(self.path + self.segms[idx]).get_fdata()\n",
    "        return { \"image\": img, \"seg\": img_seg}\n",
    "        \n",
    "    def __len__(self):\n",
    "        return len(images)"
   ]
  },
  {
   "cell_type": "code",
   "execution_count": 8,
   "metadata": {},
   "outputs": [],
   "source": [
    "dataset = Dataset(directory, imgs, segs)"
   ]
  },
  {
   "cell_type": "code",
   "execution_count": 27,
   "metadata": {},
   "outputs": [
    {
     "data": {
      "text/plain": [
       "array([ 0.,  1.,  2.,  3.,  4.,  5.,  6.,  7.,  8.,  9., 10., 11., 12.,\n",
       "       13., 14., 15., 16., 17., 18., 19., 20.])"
      ]
     },
     "execution_count": 27,
     "metadata": {},
     "output_type": "execute_result"
    }
   ],
   "source": [
    "np.unique(dataset[1][\"seg\"])"
   ]
  },
  {
   "cell_type": "code",
   "execution_count": 14,
   "metadata": {},
   "outputs": [],
   "source": [
    " def read_transform_txt(path):\n",
    "\n",
    "    transform = None\n",
    "    with open( path, 'r' ) as f:\n",
    "        for line in f:\n",
    "\n",
    "            if line.startswith( 'Parameters:' ):\n",
    "                values = line.split( ': ' )[1].split( ' ' )\n",
    "                values = [float( e ) for e in values if ( e != '' and e != '\\n' )]\n",
    "                transform_upper_left = np.reshape( values[0:9], ( 3, 3 ) )\n",
    "                translation = values[9:]\n",
    "                \n",
    "\n",
    "            if line.startswith( 'FixedParameters:' ):\n",
    "                values = line.split( ': ' )[1].split( ' ' )\n",
    "                values = [float( e ) for e in values if ( e != '' and e != '\\n' )]\n",
    "                center = values\n",
    "\n",
    "\n",
    "    offset = np.ones( 4 )\n",
    "    for i in range( 0, 3 ):\n",
    "\n",
    "        offset[i] = translation[i] + center[i];\n",
    "\n",
    "        for j in range( 0, 3 ):\n",
    "\n",
    "            offset[i] -= transform_upper_left[i][j] * center[i]\n",
    "\n",
    "    transform = np.vstack((transform_upper_left, [0, 0, 0]))\n",
    "    transform = np.hstack((transform, np.reshape( offset, (4, 1))))\n",
    "\n",
    "    return transform"
   ]
  },
  {
   "cell_type": "code",
   "execution_count": 15,
   "metadata": {},
   "outputs": [],
   "source": [
    "transform = read_transform_txt('/data/datasets/test_task_cmai/Brain_CT_labeling/1.txt')"
   ]
  },
  {
   "cell_type": "code",
   "execution_count": 16,
   "metadata": {},
   "outputs": [
    {
     "data": {
      "text/plain": [
       "(4, 4)"
      ]
     },
     "execution_count": 16,
     "metadata": {},
     "output_type": "execute_result"
    }
   ],
   "source": [
    "transform.shape"
   ]
  },
  {
   "cell_type": "code",
   "execution_count": 17,
   "metadata": {},
   "outputs": [],
   "source": [
    "image = sitk.ReadImage(\"/data/datasets/test_task_cmai/Brain_CT_labeling/1.nii.gz\")\n",
    "\n",
    "rot_matrix = transform[:3, :-1]\n",
    "offset = transform[:3,-1:]\n",
    "\n",
    "e3d_transform = sitk.Euler3DTransform()\n",
    "e3d_transform.SetMatrix(rot_matrix.reshape(9))\n",
    "e3d_transform.SetTranslation(offset.reshape( 3))\n",
    "e3d_transform.TransformPoint([0,0,0])\n",
    "\n",
    "\n",
    "image = sitk.Resample(image, e3d_transform, sitk.sitkNearestNeighbor)\n",
    "image_data = sitk.GetArrayFromImage(image)\n",
    "image_data = np.moveaxis(image_data, 0, -1)\n"
   ]
  },
  {
   "cell_type": "code",
   "execution_count": null,
   "metadata": {},
   "outputs": [],
   "source": []
  }
 ],
 "metadata": {
  "kernelspec": {
   "display_name": "Python 3",
   "language": "python",
   "name": "python3"
  },
  "language_info": {
   "codemirror_mode": {
    "name": "ipython",
    "version": 3
   },
   "file_extension": ".py",
   "mimetype": "text/x-python",
   "name": "python",
   "nbconvert_exporter": "python",
   "pygments_lexer": "ipython3",
   "version": "3.8.5"
  }
 },
 "nbformat": 4,
 "nbformat_minor": 4
}
